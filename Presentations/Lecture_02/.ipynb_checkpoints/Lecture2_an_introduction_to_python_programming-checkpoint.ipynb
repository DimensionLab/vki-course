{
 "cells": [
  {
   "cell_type": "markdown",
   "metadata": {
    "slideshow": {
     "slide_type": "slide"
    }
   },
   "source": [
    "# Hands on Machine Learning for Fluid Dynamics\n",
    "## Lecture 2: An Introduction to Python Programming\n",
    "<br>\n",
    "<center> J. Christophe <br> 07/02/2022 </center>\n",
    "\n",
    "<center><img src=\"images/VKI_logo_text.png\" width=\"15%\" /></center>\n"
   ]
  },
  {
   "cell_type": "markdown",
   "metadata": {
    "slideshow": {
     "slide_type": "slide"
    }
   },
   "source": [
    "\n",
    "\n",
    "## Before we start ...\n",
    "\n",
    "<center><img src=\"images/python-logo.png\" width=\"25%\" /></center>\n",
    "\n",
    "This introduction to Python is not covering all concepts you could find in a programming course but ...\n",
    "\n",
    ".... It includes all the necessary concepts required in the other lectures of this week\n",
    "\n",
    "* If you are an experienced Python user, be patient, things will get more complicated later...\n",
    "* If you are not, no worries, we start from the really beginning ..."
   ]
  },
  {
   "cell_type": "markdown",
   "metadata": {
    "slideshow": {
     "slide_type": "slide"
    }
   },
   "source": [
    "# Content\n",
    "\n",
    "## <font color='black'> - Variables and manipulations </font>\n",
    "\n",
    "## <font color='black'> - Flow control </font>\n",
    "\n",
    "## <font color='black'> - Functions </font>\n",
    "\n",
    "## <font color='black'> - Basic OOP </font>\n"
   ]
  },
  {
   "cell_type": "markdown",
   "metadata": {
    "slideshow": {
     "slide_type": "slide"
    }
   },
   "source": [
    "# Content\n",
    "\n",
    "## <font color='red'> - Variables and manipulations </font>\n",
    "\n",
    "## <font color='black'> - Flow control </font>\n",
    "\n",
    "## <font color='black'> - Functions </font>\n",
    "\n",
    "## <font color='black'> - Basic OOP </font>\n"
   ]
  },
  {
   "cell_type": "markdown",
   "metadata": {
    "slideshow": {
     "slide_type": "slide"
    }
   },
   "source": [
    "## Data types in python\n",
    "\n",
    "Python has several fundamental data types<br>\n",
    "Some of the most used ones are:\n",
    "- Numerical: integers, float, complex, bool\n",
    "- Containers:  string, list, dict, tuples, sets\n",
    "- Special types used in particular packages: numpy array\n",
    "\n",
    "Data can be assigned to a variable using the ``=`` operator"
   ]
  },
  {
   "cell_type": "markdown",
   "metadata": {
    "slideshow": {
     "slide_type": "slide"
    }
   },
   "source": [
    "## Fundamental types:"
   ]
  },
  {
   "cell_type": "code",
   "execution_count": 1,
   "metadata": {
    "scrolled": true,
    "slideshow": {
     "slide_type": "fragment"
    }
   },
   "outputs": [
    {
     "name": "stdout",
     "output_type": "stream",
     "text": [
      "2 2.0 True False (1-2j)\n",
      "<class 'int'>\n",
      "<class 'float'>\n",
      "<class 'bool'>\n",
      "<class 'bool'>\n",
      "<class 'complex'>\n"
     ]
    }
   ],
   "source": [
    "i = 2         # integer\n",
    "f = 2.0       # float\n",
    "b1 = True     # boolean\n",
    "b2 = False    # boolean\n",
    "c = 1.0 -2.0j # complex\n",
    "\n",
    "print(i, f, b1, b2, c)\n",
    "print(type(i))\n",
    "print(type(f))\n",
    "print(type(b1))\n",
    "print(type(b2))\n",
    "print(type(c))\n"
   ]
  },
  {
   "cell_type": "markdown",
   "metadata": {
    "slideshow": {
     "slide_type": "fragment"
    }
   },
   "source": [
    "Note that Python is a dynamically typed language, no need to define the type before assignment\n",
    "\n"
   ]
  },
  {
   "cell_type": "markdown",
   "metadata": {
    "slideshow": {
     "slide_type": "fragment"
    }
   },
   "source": [
    "Multiple assignment is also possible:"
   ]
  },
  {
   "cell_type": "code",
   "execution_count": 2,
   "metadata": {
    "scrolled": true,
    "slideshow": {
     "slide_type": "fragment"
    }
   },
   "outputs": [
    {
     "name": "stdout",
     "output_type": "stream",
     "text": [
      "4 4.0\n"
     ]
    }
   ],
   "source": [
    "c, d = (i*2, f+2); print(c, d)"
   ]
  },
  {
   "cell_type": "markdown",
   "metadata": {
    "slideshow": {
     "slide_type": "slide"
    }
   },
   "source": [
    "## Type Casting\n",
    "If needed, a variable can be converted in other types"
   ]
  },
  {
   "cell_type": "code",
   "execution_count": 3,
   "metadata": {
    "scrolled": true,
    "slideshow": {
     "slide_type": "fragment"
    }
   },
   "outputs": [
    {
     "name": "stdout",
     "output_type": "stream",
     "text": [
      "5.5\n"
     ]
    },
    {
     "data": {
      "text/plain": [
       "str"
      ]
     },
     "execution_count": 3,
     "metadata": {},
     "output_type": "execute_result"
    }
   ],
   "source": [
    "flt_num = 5.5\n",
    "str_num = str(flt_num)\n",
    "print(str_num)\n",
    "type(str_num)"
   ]
  },
  {
   "cell_type": "markdown",
   "metadata": {
    "slideshow": {
     "slide_type": "slide"
    }
   },
   "source": [
    "## Operations\n",
    "Addition (+), subtraction (-), multiplication (\\*), division (/), integer division (//), power (\\*\\*)"
   ]
  },
  {
   "cell_type": "code",
   "execution_count": 4,
   "metadata": {
    "scrolled": true
   },
   "outputs": [
    {
     "data": {
      "text/plain": [
       "(5, 4, 1.3333333333333333, 1, 16)"
      ]
     },
     "execution_count": 4,
     "metadata": {},
     "output_type": "execute_result"
    }
   ],
   "source": [
    "1+4, 5-1, 4/3, 4//3, 4**2"
   ]
  },
  {
   "cell_type": "code",
   "execution_count": 5,
   "metadata": {
    "scrolled": true
   },
   "outputs": [
    {
     "data": {
      "text/plain": [
       "float"
      ]
     },
     "execution_count": 5,
     "metadata": {},
     "output_type": "execute_result"
    }
   ],
   "source": [
    "type(4/3)"
   ]
  },
  {
   "cell_type": "code",
   "execution_count": 6,
   "metadata": {
    "scrolled": true
   },
   "outputs": [
    {
     "data": {
      "text/plain": [
       "(5.0, 4.0, 1.3333333333333333, 1.0, 16.0)"
      ]
     },
     "execution_count": 6,
     "metadata": {},
     "output_type": "execute_result"
    }
   ],
   "source": [
    "1.0+4.0, 5.0-1.0, 4.0/3.0, 4.0//3.0, 4.0**2.0"
   ]
  },
  {
   "cell_type": "markdown",
   "metadata": {
    "slideshow": {
     "slide_type": "slide"
    }
   },
   "source": [
    "## Comparison operators\n",
    "Greater (>), less (<), greater or equal (>=), less or equal (<=), equality (==), identity (is)"
   ]
  },
  {
   "cell_type": "code",
   "execution_count": 7,
   "metadata": {
    "scrolled": true
   },
   "outputs": [
    {
     "data": {
      "text/plain": [
       "(True, True, False, False, True, True)"
      ]
     },
     "execution_count": 7,
     "metadata": {},
     "output_type": "execute_result"
    }
   ],
   "source": [
    "4 > 2, 2 < 4, 4 > 4, 4 < 4, 4 <= 4, 4 >=4 "
   ]
  },
  {
   "cell_type": "code",
   "execution_count": 8,
   "metadata": {
    "scrolled": true
   },
   "outputs": [
    {
     "data": {
      "text/plain": [
       "True"
      ]
     },
     "execution_count": 8,
     "metadata": {},
     "output_type": "execute_result"
    }
   ],
   "source": [
    "1.0 == 1.0"
   ]
  },
  {
   "cell_type": "code",
   "execution_count": 9,
   "metadata": {
    "scrolled": true
   },
   "outputs": [
    {
     "data": {
      "text/plain": [
       "True"
      ]
     },
     "execution_count": 9,
     "metadata": {},
     "output_type": "execute_result"
    }
   ],
   "source": [
    "i1 = 2.0\n",
    "i2 = 2.0\n",
    "i1 == i2"
   ]
  },
  {
   "cell_type": "code",
   "execution_count": 10,
   "metadata": {
    "scrolled": true
   },
   "outputs": [
    {
     "data": {
      "text/plain": [
       "False"
      ]
     },
     "execution_count": 10,
     "metadata": {},
     "output_type": "execute_result"
    }
   ],
   "source": [
    "i1 is i2"
   ]
  },
  {
   "cell_type": "code",
   "execution_count": 11,
   "metadata": {},
   "outputs": [
    {
     "data": {
      "text/plain": [
       "True"
      ]
     },
     "execution_count": 11,
     "metadata": {},
     "output_type": "execute_result"
    }
   ],
   "source": [
    "i1 = i2\n",
    "i1 is i2"
   ]
  },
  {
   "cell_type": "code",
   "execution_count": 12,
   "metadata": {},
   "outputs": [
    {
     "data": {
      "text/plain": [
       "True"
      ]
     },
     "execution_count": 12,
     "metadata": {},
     "output_type": "execute_result"
    }
   ],
   "source": [
    "a1 = 'a'\n",
    "a2 = 'a'\n",
    "a1 is a2"
   ]
  },
  {
   "cell_type": "markdown",
   "metadata": {
    "slideshow": {
     "slide_type": "slide"
    }
   },
   "source": [
    "## Boolean operators"
   ]
  },
  {
   "cell_type": "code",
   "execution_count": 13,
   "metadata": {
    "scrolled": true
   },
   "outputs": [
    {
     "data": {
      "text/plain": [
       "True"
      ]
     },
     "execution_count": 13,
     "metadata": {},
     "output_type": "execute_result"
    }
   ],
   "source": [
    "4 > 2 and 3 > 2"
   ]
  },
  {
   "cell_type": "code",
   "execution_count": 14,
   "metadata": {
    "scrolled": true
   },
   "outputs": [
    {
     "data": {
      "text/plain": [
       "False"
      ]
     },
     "execution_count": 14,
     "metadata": {},
     "output_type": "execute_result"
    }
   ],
   "source": [
    "not True"
   ]
  },
  {
   "cell_type": "code",
   "execution_count": 15,
   "metadata": {
    "scrolled": true
   },
   "outputs": [
    {
     "data": {
      "text/plain": [
       "True"
      ]
     },
     "execution_count": 15,
     "metadata": {},
     "output_type": "execute_result"
    }
   ],
   "source": [
    "4 > 2 or 2 > 2"
   ]
  },
  {
   "cell_type": "markdown",
   "metadata": {
    "slideshow": {
     "slide_type": "slide"
    }
   },
   "source": [
    "## String type\n",
    "Used to store text in a variable"
   ]
  },
  {
   "cell_type": "code",
   "execution_count": 16,
   "metadata": {
    "scrolled": true
   },
   "outputs": [
    {
     "data": {
      "text/plain": [
       "str"
      ]
     },
     "execution_count": 16,
     "metadata": {},
     "output_type": "execute_result"
    }
   ],
   "source": [
    "s = \"Hello VKI\"\n",
    "type(s)"
   ]
  },
  {
   "cell_type": "code",
   "execution_count": 17,
   "metadata": {
    "scrolled": true
   },
   "outputs": [
    {
     "data": {
      "text/plain": [
       "9"
      ]
     },
     "execution_count": 17,
     "metadata": {},
     "output_type": "execute_result"
    }
   ],
   "source": [
    "len(s)"
   ]
  },
  {
   "cell_type": "markdown",
   "metadata": {
    "slideshow": {
     "slide_type": "fragment"
    }
   },
   "source": [
    "You can index a character in a string using **[ ]** or slice using **[start:stop]** <br>\n",
    "**Warning: index in python starts from 0 !** "
   ]
  },
  {
   "cell_type": "code",
   "execution_count": 18,
   "metadata": {
    "scrolled": true
   },
   "outputs": [
    {
     "data": {
      "text/plain": [
       "'o'"
      ]
     },
     "execution_count": 18,
     "metadata": {},
     "output_type": "execute_result"
    }
   ],
   "source": [
    "s[4]"
   ]
  },
  {
   "cell_type": "code",
   "execution_count": 19,
   "metadata": {
    "scrolled": true
   },
   "outputs": [
    {
     "data": {
      "text/plain": [
       "'VKI'"
      ]
     },
     "execution_count": 19,
     "metadata": {},
     "output_type": "execute_result"
    }
   ],
   "source": [
    "s[6:9]"
   ]
  },
  {
   "cell_type": "code",
   "execution_count": 20,
   "metadata": {
    "scrolled": true
   },
   "outputs": [
    {
     "data": {
      "text/plain": [
       "'K'"
      ]
     },
     "execution_count": 20,
     "metadata": {},
     "output_type": "execute_result"
    }
   ],
   "source": [
    "s[-2]"
   ]
  },
  {
   "cell_type": "markdown",
   "metadata": {
    "slideshow": {
     "slide_type": "slide"
    }
   },
   "source": [
    "## Lists\n",
    "Is very similar to strings, except that each element can be of any type"
   ]
  },
  {
   "cell_type": "code",
   "execution_count": 21,
   "metadata": {
    "scrolled": true
   },
   "outputs": [
    {
     "name": "stdout",
     "output_type": "stream",
     "text": [
      "['VKI', 2.0, (1+2j)]\n",
      "<class 'list'>\n"
     ]
    }
   ],
   "source": [
    "l = ['VKI', 2.0, 1+2j]\n",
    "print(l)\n",
    "print(type(l))"
   ]
  },
  {
   "cell_type": "markdown",
   "metadata": {
    "slideshow": {
     "slide_type": "fragment"
    }
   },
   "source": [
    "on which you can use same slicing techniques to manipulate them"
   ]
  },
  {
   "cell_type": "code",
   "execution_count": 22,
   "metadata": {
    "scrolled": true
   },
   "outputs": [
    {
     "data": {
      "text/plain": [
       "(1+2j)"
      ]
     },
     "execution_count": 22,
     "metadata": {},
     "output_type": "execute_result"
    }
   ],
   "source": [
    "l[2]"
   ]
  },
  {
   "cell_type": "markdown",
   "metadata": {
    "slideshow": {
     "slide_type": "fragment"
    }
   },
   "source": [
    "and can be arbitrarily nested"
   ]
  },
  {
   "cell_type": "code",
   "execution_count": 23,
   "metadata": {
    "scrolled": true
   },
   "outputs": [
    {
     "name": "stdout",
     "output_type": "stream",
     "text": [
      "[1, 3.0, ['V', 'K', 'I'], (1+2j)]\n"
     ]
    }
   ],
   "source": [
    "nl = [1, 3.0, ['V', 'K', 'I'], 1+2j]\n",
    "print(nl)"
   ]
  },
  {
   "cell_type": "markdown",
   "metadata": {
    "slideshow": {
     "slide_type": "slide"
    }
   },
   "source": [
    "## Manipulation of lists"
   ]
  },
  {
   "cell_type": "code",
   "execution_count": 24,
   "metadata": {
    "scrolled": true
   },
   "outputs": [
    {
     "name": "stdout",
     "output_type": "stream",
     "text": [
      "['VKI', 2.0, (1+2j)]\n"
     ]
    }
   ],
   "source": [
    "print(l)"
   ]
  },
  {
   "cell_type": "markdown",
   "metadata": {
    "slideshow": {
     "slide_type": "fragment"
    }
   },
   "source": [
    "- Add an element at the end"
   ]
  },
  {
   "cell_type": "code",
   "execution_count": 25,
   "metadata": {
    "scrolled": true
   },
   "outputs": [
    {
     "name": "stdout",
     "output_type": "stream",
     "text": [
      "['VKI', 2.0, (1+2j), 'a']\n"
     ]
    }
   ],
   "source": [
    "l.append('a'); print(l)"
   ]
  },
  {
   "cell_type": "markdown",
   "metadata": {
    "slideshow": {
     "slide_type": "fragment"
    }
   },
   "source": [
    "- Modify lists by assigning new values to elements (because list is *mutable*)"
   ]
  },
  {
   "cell_type": "code",
   "execution_count": 26,
   "metadata": {
    "scrolled": true
   },
   "outputs": [
    {
     "name": "stdout",
     "output_type": "stream",
     "text": [
      "['VKI', 2.0, 'p', 'a']\n",
      "['VKI', 2.0, 2.1, 'b']\n"
     ]
    }
   ],
   "source": [
    "l[2] = 'p'; print(l)\n",
    "l[2:4] = [2.1, 'b']; print(l)"
   ]
  },
  {
   "cell_type": "markdown",
   "metadata": {
    "slideshow": {
     "slide_type": "fragment"
    }
   },
   "source": [
    "- Insert an element at a particular position"
   ]
  },
  {
   "cell_type": "code",
   "execution_count": 27,
   "metadata": {
    "scrolled": true
   },
   "outputs": [
    {
     "name": "stdout",
     "output_type": "stream",
     "text": [
      "['VKI', 2.0, (4+2j), 2.1, 'b']\n"
     ]
    }
   ],
   "source": [
    "l.insert(2, 4+2j); print(l)"
   ]
  },
  {
   "cell_type": "markdown",
   "metadata": {
    "slideshow": {
     "slide_type": "fragment"
    }
   },
   "source": [
    "- delete an element"
   ]
  },
  {
   "cell_type": "code",
   "execution_count": 28,
   "metadata": {
    "scrolled": true
   },
   "outputs": [
    {
     "name": "stdout",
     "output_type": "stream",
     "text": [
      "[2.0, (4+2j), 2.1, 'b']\n"
     ]
    }
   ],
   "source": [
    "del l[0]; print(l)"
   ]
  },
  {
   "cell_type": "markdown",
   "metadata": {
    "slideshow": {
     "slide_type": "fragment"
    }
   },
   "source": [
    "- use help(list) for more details\n",
    "- for vector/matrix manipulations of numbers, numpy offers more flexible types (np.array), see later"
   ]
  },
  {
   "cell_type": "markdown",
   "metadata": {
    "slideshow": {
     "slide_type": "slide"
    }
   },
   "source": [
    "## Tuples\n",
    "Tuples are very similar to lists, but they are inmutable. \n",
    "\n",
    "This means that they cannot be changed \"on the fly\""
   ]
  },
  {
   "cell_type": "code",
   "execution_count": 29,
   "metadata": {},
   "outputs": [],
   "source": [
    "a = (0, 1, 5) # --> Tuples use (), while lists use []"
   ]
  },
  {
   "cell_type": "code",
   "execution_count": 30,
   "metadata": {},
   "outputs": [
    {
     "ename": "TypeError",
     "evalue": "'tuple' object does not support item assignment",
     "output_type": "error",
     "traceback": [
      "\u001b[0;31m---------------------------------------------------------------------------\u001b[0m",
      "\u001b[0;31mTypeError\u001b[0m                                 Traceback (most recent call last)",
      "\u001b[0;32m/tmp/ipykernel_28535/3686271957.py\u001b[0m in \u001b[0;36m<module>\u001b[0;34m\u001b[0m\n\u001b[0;32m----> 1\u001b[0;31m \u001b[0ma\u001b[0m\u001b[0;34m[\u001b[0m\u001b[0;36m0\u001b[0m\u001b[0;34m]\u001b[0m \u001b[0;34m=\u001b[0m \u001b[0;36m1\u001b[0m\u001b[0;34m\u001b[0m\u001b[0;34m\u001b[0m\u001b[0m\n\u001b[0m",
      "\u001b[0;31mTypeError\u001b[0m: 'tuple' object does not support item assignment"
     ]
    }
   ],
   "source": [
    "a[0] = 1"
   ]
  },
  {
   "cell_type": "markdown",
   "metadata": {
    "slideshow": {
     "slide_type": "slide"
    }
   },
   "source": [
    "## Dictionnaries\n",
    "Similar to lists, except that each element is key-value pair.\n",
    "\n",
    "They can contain any types inside, including other dictionaries."
   ]
  },
  {
   "cell_type": "code",
   "execution_count": 31,
   "metadata": {
    "scrolled": true
   },
   "outputs": [
    {
     "name": "stdout",
     "output_type": "stream",
     "text": [
      "{'num_int': 12, 'type': 'data', 'num_float': 2.0, 'a_list': [1, 'a', 8], 'a_dict_in_dict': {'a': 1, 'b': 3}}\n",
      "<class 'dict'>\n"
     ]
    }
   ],
   "source": [
    "data = {'num_int': 12, 'type': 'data', 'num_float': 2.0, 'a_list': [1, 'a', 8], 'a_dict_in_dict':{'a':1,'b':3}}\n",
    "print(data)\n",
    "print(type(data))"
   ]
  },
  {
   "cell_type": "code",
   "execution_count": 32,
   "metadata": {
    "scrolled": true
   },
   "outputs": [
    {
     "data": {
      "text/plain": [
       "2.0"
      ]
     },
     "execution_count": 32,
     "metadata": {},
     "output_type": "execute_result"
    }
   ],
   "source": [
    "data['num_float']"
   ]
  },
  {
   "cell_type": "markdown",
   "metadata": {
    "slideshow": {
     "slide_type": "slide"
    }
   },
   "source": [
    "# Content\n",
    "\n",
    "## <font color='black'> - Variables and manipulations </font>\n",
    "\n",
    "## <font color='red'> - Flow control </font>\n",
    "\n",
    "## <font color='black'> - Functions </font>\n",
    "\n",
    "## <font color='black'> - Basic OOP </font>\n"
   ]
  },
  {
   "cell_type": "markdown",
   "metadata": {
    "slideshow": {
     "slide_type": "slide"
    }
   },
   "source": [
    "## Flow control\n",
    "Program blocks are defined by their indentation level, for example:"
   ]
  },
  {
   "cell_type": "code",
   "execution_count": 33,
   "metadata": {
    "scrolled": true
   },
   "outputs": [
    {
     "name": "stdout",
     "output_type": "stream",
     "text": [
      "6\n",
      "2.0\n"
     ]
    }
   ],
   "source": [
    "# out of block code\n",
    "value = 6\n",
    "\n",
    "# start of block\n",
    "if value > 5:\n",
    "    # inside of block\n",
    "    print(value)\n",
    "    \n",
    "# out of block\n",
    "print(2.0)"
   ]
  },
  {
   "cell_type": "markdown",
   "metadata": {
    "slideshow": {
     "slide_type": "slide"
    }
   },
   "source": [
    "## if, elif, else conditional statements"
   ]
  },
  {
   "cell_type": "code",
   "execution_count": 34,
   "metadata": {
    "scrolled": true
   },
   "outputs": [
    {
     "name": "stdout",
     "output_type": "stream",
     "text": [
      "the number is less than 5\n"
     ]
    }
   ],
   "source": [
    "number = 3\n",
    "\n",
    "# If it is smaller than 5 or not\n",
    "if number < 5:\n",
    "    print(\"the number is less than 5\")\n",
    "elif number >= 5 and number <= 10:\n",
    "    print(\"the number is between 5 and 10\")\n",
    "else:\n",
    "    print(\"the number is greater than 10\")\n"
   ]
  },
  {
   "cell_type": "markdown",
   "metadata": {
    "slideshow": {
     "slide_type": "slide"
    }
   },
   "source": [
    "## Loops\n",
    "The ``for`` loop is used on iterable objects (list, dict, string)."
   ]
  },
  {
   "cell_type": "code",
   "execution_count": 35,
   "metadata": {
    "scrolled": true
   },
   "outputs": [
    {
     "name": "stdout",
     "output_type": "stream",
     "text": [
      "<class 'range'>\n",
      "0\n",
      "1\n",
      "2\n",
      "3\n",
      "4\n"
     ]
    }
   ],
   "source": [
    "a = range(5)\n",
    "print(type(a))\n",
    "for i in a:\n",
    "    print(i)"
   ]
  },
  {
   "cell_type": "markdown",
   "metadata": {},
   "source": [
    "Note that the range function starts at 0 and 5 is not included, so the loop does covers the interval: [0, 5)"
   ]
  },
  {
   "cell_type": "markdown",
   "metadata": {
    "slideshow": {
     "slide_type": "fragment"
    }
   },
   "source": [
    "Use on lists:"
   ]
  },
  {
   "cell_type": "code",
   "execution_count": 36,
   "metadata": {
    "scrolled": true
   },
   "outputs": [
    {
     "name": "stdout",
     "output_type": "stream",
     "text": [
      "PIV\n",
      "LDV\n",
      "hotwire\n"
     ]
    }
   ],
   "source": [
    "meas_techniques = ['PIV', 'LDV', 'hotwire']\n",
    "for m in meas_techniques:\n",
    "    print(m)"
   ]
  },
  {
   "cell_type": "markdown",
   "metadata": {
    "slideshow": {
     "slide_type": "slide"
    }
   },
   "source": [
    "## Loops"
   ]
  },
  {
   "cell_type": "markdown",
   "metadata": {
    "slideshow": {
     "slide_type": "fragment"
    }
   },
   "source": [
    "And if you need to access to the indices when iterating over the list:"
   ]
  },
  {
   "cell_type": "code",
   "execution_count": 37,
   "metadata": {
    "scrolled": true
   },
   "outputs": [
    {
     "name": "stdout",
     "output_type": "stream",
     "text": [
      "0 PIV\n",
      "1 LDV\n",
      "2 hotwire\n"
     ]
    }
   ],
   "source": [
    "for i, m in enumerate(meas_techniques):\n",
    "    print(i, m)"
   ]
  },
  {
   "cell_type": "markdown",
   "metadata": {
    "slideshow": {
     "slide_type": "fragment"
    }
   },
   "source": [
    "Use the zip function when iterating over 2 iterable objects of same size:"
   ]
  },
  {
   "cell_type": "code",
   "execution_count": 38,
   "metadata": {
    "scrolled": true
   },
   "outputs": [
    {
     "name": "stdout",
     "output_type": "stream",
     "text": [
      "param1 1.0\n",
      "param2 2.0\n",
      "param3 3.0\n"
     ]
    }
   ],
   "source": [
    "params = ['param1', 'param2', 'param3']\n",
    "values = [1.0, 2.0, 3.0]\n",
    "for p, v in zip(params, values):\n",
    "    print(p, v)"
   ]
  },
  {
   "cell_type": "markdown",
   "metadata": {},
   "source": [
    "If they are of different size, it stops at the smaller size \n",
    "\n",
    "See ``itertools`` functions ``cycle``, ``repeat``, ``multiply``, etc "
   ]
  },
  {
   "cell_type": "markdown",
   "metadata": {
    "slideshow": {
     "slide_type": "subslide"
    }
   },
   "source": [
    "To iterate over key-value pairs of a dictionary"
   ]
  },
  {
   "cell_type": "code",
   "execution_count": 39,
   "metadata": {
    "scrolled": true
   },
   "outputs": [
    {
     "name": "stdout",
     "output_type": "stream",
     "text": [
      "{'num_int': 12, 'type': 'data', 'num_float': 2.0, 'a_list': [1, 'a', 8], 'a_dict_in_dict': {'a': 1, 'b': 3}}\n"
     ]
    }
   ],
   "source": [
    "print(data)"
   ]
  },
  {
   "cell_type": "code",
   "execution_count": 40,
   "metadata": {
    "scrolled": true
   },
   "outputs": [
    {
     "name": "stdout",
     "output_type": "stream",
     "text": [
      "num_int 12\n",
      "type data\n",
      "num_float 2.0\n",
      "a_list [1, 'a', 8]\n",
      "a_dict_in_dict {'a': 1, 'b': 3}\n"
     ]
    }
   ],
   "source": [
    "for key, value in data.items():\n",
    "    print(key, value)"
   ]
  },
  {
   "cell_type": "markdown",
   "metadata": {
    "slideshow": {
     "slide_type": "slide"
    }
   },
   "source": [
    "## While loops"
   ]
  },
  {
   "cell_type": "code",
   "execution_count": 41,
   "metadata": {
    "scrolled": true
   },
   "outputs": [
    {
     "name": "stdout",
     "output_type": "stream",
     "text": [
      "0\n",
      "1\n",
      "2\n"
     ]
    }
   ],
   "source": [
    "i = 0\n",
    "while i < 3:\n",
    "    print(i)\n",
    "    i +=1\n"
   ]
  },
  {
   "cell_type": "markdown",
   "metadata": {
    "slideshow": {
     "slide_type": "slide"
    }
   },
   "source": [
    "# Content\n",
    "\n",
    "## <font color='black'> - Variables and manipulations </font>\n",
    "\n",
    "## <font color='black'> - Flow control </font>\n",
    "\n",
    "## <font color='red'> - Functions </font>\n",
    "\n",
    "## <font color='black'> - Basic OOP </font>\n"
   ]
  },
  {
   "cell_type": "markdown",
   "metadata": {
    "slideshow": {
     "slide_type": "slide"
    }
   },
   "source": [
    "## What is a function?\n",
    "\n",
    "\n",
    "*A function is a collection of statements self contained in a sub-program that can be executed whenever you want in the main program*\n",
    "    \n",
    "\n",
    "## Why is it important?\n",
    "\n",
    "* **Avoid duplicating**  code snippets by putting all similar snippets in a common place\n",
    "* **Save typing** and make it easier to change the program later\n",
    "* **Split long programs** into smaller, more manageable pieces"
   ]
  },
  {
   "cell_type": "markdown",
   "metadata": {
    "slideshow": {
     "slide_type": "slide"
    }
   },
   "source": [
    "## Some definitions :\n",
    "\n",
    "* A function takes inputs as **arguments**\n",
    "* The first line, or the **header**, define the function name and inputs\n",
    "* The **function body** are all the lines within the function\n",
    "* The outputs of a function are written in the **return** line"
   ]
  },
  {
   "cell_type": "markdown",
   "metadata": {
    "slideshow": {
     "slide_type": "slide"
    }
   },
   "source": [
    "## Let's write our first function"
   ]
  },
  {
   "cell_type": "code",
   "execution_count": 42,
   "metadata": {
    "slideshow": {
     "slide_type": "fragment"
    }
   },
   "outputs": [],
   "source": [
    "# h the input to the function is called the function .....\n",
    "def hH2OtoPa(h): # this first line is defined as the function ....\n",
    "    # the lines within the function are defined as the function ....\n",
    "    rho = 997.05 #[kg/m^3] at 25°C\n",
    "    g = 9.80665 #[m^2/s]\n",
    "    p = rho*g*h #[Pa]\n",
    "    # end of the ....\n",
    "    return p # this is the output of the ...."
   ]
  },
  {
   "cell_type": "code",
   "execution_count": 43,
   "metadata": {
    "slideshow": {
     "slide_type": "fragment"
    }
   },
   "outputs": [
    {
     "name": "stdout",
     "output_type": "stream",
     "text": [
      "0.0045 m of H2O corresponds to 43.99974 Pa\n"
     ]
    }
   ],
   "source": [
    "#To use a function within a code you must call it\n",
    "Water_height = 0.0045 # This is the value of the argument\n",
    "Called_function = hH2OtoPa(Water_height) # this is the call to the function\n",
    "\n",
    "#display results\n",
    "print('%.4f m of H2O corresponds to %.5f Pa' %(Water_height, Called_function))"
   ]
  },
  {
   "cell_type": "markdown",
   "metadata": {
    "slideshow": {
     "slide_type": "slide"
    }
   },
   "source": [
    "## A function can have multiple inputs/outputs\n",
    "and the results can be saved as tuples or single variables\n",
    "\n",
    "--> They are positional: order matters!"
   ]
  },
  {
   "cell_type": "code",
   "execution_count": 44,
   "metadata": {
    "slideshow": {
     "slide_type": "fragment"
    }
   },
   "outputs": [
    {
     "name": "stdout",
     "output_type": "stream",
     "text": [
      "0.0060 m of H2O corresponds to 58.66632 Pa or 0.00851 Psi\n"
     ]
    }
   ],
   "source": [
    "def hH2OtoPa(h, rho, g):\n",
    "    pa = rho*g*h #[Pa]\n",
    "    psi = pa/6894.76 #[Psi]\n",
    "    return pa, psi\n",
    "\n",
    "Water_height = 0.006\n",
    "\n",
    "# Result saved as a tuple\n",
    "Result_tuple = hH2OtoPa(Water_height, 997.05, 9.80665) \n",
    "# Results saved as single variables\n",
    "Result_Var1, Result_Var2 = hH2OtoPa(Water_height, 997.05, 9.80665) \n",
    "\n",
    "print('%.4f m of H2O corresponds to %.5f Pa or %.5f Psi' \\\n",
    "      %(Water_height, Result_tuple[0], Result_tuple[1]))"
   ]
  },
  {
   "cell_type": "markdown",
   "metadata": {
    "slideshow": {
     "slide_type": "slide"
    }
   },
   "source": [
    "## Keyword arguments\n",
    "\n",
    "Some arguments can be defined as optional. If they are not specified, they will  take their default value."
   ]
  },
  {
   "cell_type": "code",
   "execution_count": 45,
   "metadata": {
    "slideshow": {
     "slide_type": "fragment"
    }
   },
   "outputs": [
    {
     "name": "stdout",
     "output_type": "stream",
     "text": [
      "0.0100 m of H2O corresponds to 97.77720 Pa or 0.01418 Psi\n",
      "0.0100 m of H2O corresponds to 100.00000 Pa or 0.01450 Psi\n"
     ]
    }
   ],
   "source": [
    "def hH2OtoPa(h, rho=997.05, g=9.80665): # h is an positional argument while rho, and g are keyword \n",
    "    pa = rho*g*h #[Pa]\n",
    "    psi = pa/6894.76 #[Psi]\n",
    "    return pa, psi\n",
    "\n",
    "Water_height = 0.01\n",
    "\n",
    "P1, P2 = hH2OtoPa(Water_height) # Keyword not specified, values taken as default\n",
    "print('%.4f m of H2O corresponds to %.5f Pa or %.5f Psi' %(Water_height, P1, P2))\n",
    "\n",
    "P1, P2 = hH2OtoPa(Water_height, rho=1000.0, g=10.0) # Keyword specified\n",
    "print('%.4f m of H2O corresponds to %.5f Pa or %.5f Psi' %(Water_height, P1, P2))"
   ]
  },
  {
   "cell_type": "markdown",
   "metadata": {
    "slideshow": {
     "slide_type": "slide"
    }
   },
   "source": [
    "## Unpacking arguments\n",
    "We can pass elemental types to functions"
   ]
  },
  {
   "cell_type": "code",
   "execution_count": 46,
   "metadata": {},
   "outputs": [],
   "source": [
    "def hH2OtoPa(h, rho, g):\n",
    "    pa = rho*g*h #[Pa]\n",
    "    return pa"
   ]
  },
  {
   "cell_type": "code",
   "execution_count": 47,
   "metadata": {},
   "outputs": [
    {
     "data": {
      "text/plain": [
       "97.777203825"
      ]
     },
     "execution_count": 47,
     "metadata": {},
     "output_type": "execute_result"
    }
   ],
   "source": [
    "arguments_tuple = (0.01, 997.05, 9.80665)\n",
    "hH2OtoPa(*arguments_tuple)"
   ]
  },
  {
   "cell_type": "code",
   "execution_count": 48,
   "metadata": {},
   "outputs": [
    {
     "data": {
      "text/plain": [
       "97.777203825"
      ]
     },
     "execution_count": 48,
     "metadata": {},
     "output_type": "execute_result"
    }
   ],
   "source": [
    "arguments_dict = {'rho':997.05, 'g':9.80665, 'h':0.01} # --> Order does not matter! \n",
    "hH2OtoPa(**arguments_dict)"
   ]
  },
  {
   "cell_type": "markdown",
   "metadata": {},
   "source": [
    "More information on unpacking [here](https://www.geeksforgeeks.org/packing-and-unpacking-arguments-in-python/)\n",
    "\n",
    "This also allows for variable number of function inputs, info [here](https://realpython.com/python-kwargs-and-args/)"
   ]
  },
  {
   "cell_type": "markdown",
   "metadata": {
    "slideshow": {
     "slide_type": "slide"
    }
   },
   "source": [
    "##  Local and global variables\n",
    "\n",
    "The variables used inside the body of a function are the **local variables**, they do not exist outside the function.\n",
    "\n",
    "On the contrary, variables defined outside the function can be accessed everywhere in a program. Those are called **global variables**."
   ]
  },
  {
   "cell_type": "markdown",
   "metadata": {
    "slideshow": {
     "slide_type": "slide"
    }
   },
   "source": [
    "##  Local and global variables"
   ]
  },
  {
   "cell_type": "code",
   "execution_count": 49,
   "metadata": {
    "slideshow": {
     "slide_type": "fragment"
    }
   },
   "outputs": [
    {
     "name": "stdout",
     "output_type": "stream",
     "text": [
      "rho - Local variable = 997.0\n",
      "rho - Global variable = 1.0\n",
      "0.0010 m of H2O corresponds to 9.77772 Pa\n"
     ]
    }
   ],
   "source": [
    "rho = 1 # Global variable definition\n",
    "\n",
    "def hH2OtoPa(h):\n",
    "    rho = 997.05 #[kg/m^3] at 25°C # local variable\n",
    "    print('rho - Local variable = %0.1f' %(rho))\n",
    "    g = 9.80665 #[m^2/s]\n",
    "    p = rho*g*h #[Pa]\n",
    "    return p\n",
    "\n",
    "Water_height = 0.001\n",
    "Called_function = hH2OtoPa(Water_height)\n",
    "\n",
    "print('rho - Global variable = %0.1f' %(rho))\n",
    "print('%.4f m of H2O corresponds to %.5f Pa' %(Water_height, Called_function))"
   ]
  },
  {
   "cell_type": "markdown",
   "metadata": {
    "slideshow": {
     "slide_type": "slide"
    }
   },
   "source": [
    "## A quick comment about documentation...\n",
    "\n",
    "... always comment your functions"
   ]
  },
  {
   "cell_type": "code",
   "execution_count": 50,
   "metadata": {
    "slideshow": {
     "slide_type": "fragment"
    }
   },
   "outputs": [],
   "source": [
    "def hH2OtoPa(h,rho=997.05,g=9.80665): \n",
    "    \"\"\" \n",
    "    Convert a height in [m] of H2O (h) into a difference of pressure \n",
    "    express in [N/m^2] (pa) or in pound-force per square inch (psi) computed \n",
    "    using the Bernoulli equation : Dp = rho * g * h\n",
    "    \n",
    "    h : height of the H20 column [m]\n",
    "    rho : water density [kg/m^3]\n",
    "    g: gravitational acceleration [m/s^2]\n",
    "    return: pa,psi pressure difference express in Pa and Psi\n",
    "    \"\"\"\n",
    "    pa = rho*g*h #[Pa]\n",
    "    psi = pa/6894.76 #[Psi]\n",
    "    return pa, psi"
   ]
  },
  {
   "cell_type": "markdown",
   "metadata": {
    "slideshow": {
     "slide_type": "slide"
    }
   },
   "source": [
    "## Print the documentation"
   ]
  },
  {
   "cell_type": "code",
   "execution_count": 51,
   "metadata": {
    "slideshow": {
     "slide_type": "fragment"
    }
   },
   "outputs": [
    {
     "name": "stdout",
     "output_type": "stream",
     "text": [
      " \n",
      "    Convert a height in [m] of H2O (h) into a difference of pressure \n",
      "    express in [N/m^2] (pa) or in pound-force per square inch (psi) computed \n",
      "    using the Bernoulli equation : Dp = rho * g * h\n",
      "    \n",
      "    h : height of the H20 column [m]\n",
      "    rho : water density [kg/m^3]\n",
      "    g: gravitational acceleration [m/s^2]\n",
      "    return: pa,psi pressure difference express in Pa and Psi\n",
      "    \n"
     ]
    }
   ],
   "source": [
    "#this print the documentation of the function\n",
    "print(hH2OtoPa.__doc__)"
   ]
  },
  {
   "cell_type": "markdown",
   "metadata": {
    "slideshow": {
     "slide_type": "slide"
    }
   },
   "source": [
    "## Lambda functions\n",
    "\n",
    "There is a quick one-line construction of functions that is often convenient to make Python code compact called **lambda function**"
   ]
  },
  {
   "cell_type": "code",
   "execution_count": 52,
   "metadata": {
    "slideshow": {
     "slide_type": "fragment"
    }
   },
   "outputs": [
    {
     "name": "stdout",
     "output_type": "stream",
     "text": [
      "the function f(5.0) = 29.0\n"
     ]
    }
   ],
   "source": [
    "f = lambda x: x**2 + 4  # here lambda is equivalent to the matlab's @ for inline functions.\n",
    "\n",
    "Xval = 5\n",
    "print('the function f(%.1f) = %.1f'%(Xval, f(Xval))) "
   ]
  },
  {
   "cell_type": "code",
   "execution_count": 53,
   "metadata": {
    "slideshow": {
     "slide_type": "fragment"
    }
   },
   "outputs": [
    {
     "name": "stdout",
     "output_type": "stream",
     "text": [
      "the function f(5.0) = 29.0\n"
     ]
    }
   ],
   "source": [
    "def f(x):\n",
    "    return x**2 + 4 \n",
    "print('the function f(%.1f) = %.1f'%(Xval, f(Xval)))   "
   ]
  },
  {
   "cell_type": "markdown",
   "metadata": {
    "slideshow": {
     "slide_type": "slide"
    }
   },
   "source": [
    "# Content\n",
    "\n",
    "## <font color='black'> - Variables and manipulations </font>\n",
    "\n",
    "## <font color='black'> - Flow control </font>\n",
    "\n",
    "## <font color='black'> - Functions </font>\n",
    "\n",
    "## <font color='red'> - Basic OOP </font>\n"
   ]
  },
  {
   "cell_type": "code",
   "execution_count": 54,
   "metadata": {
    "slideshow": {
     "slide_type": "skip"
    }
   },
   "outputs": [],
   "source": [
    "import numpy as np\n",
    "\n",
    "def mean(data):\n",
    "    return np.sum(data)/len(data)\n",
    "\n",
    "class Data:\n",
    "    \"\"\"Class for data array manipulation\"\"\"\n",
    "\n",
    "    name = 'data'\n",
    "    \n",
    "    def __init__(self, data):\n",
    "        \"\"\"Initialize\"\"\"\n",
    "        self.data = data\n",
    "        \n",
    "    def mean(self):\n",
    "        \"\"\"Perform mean over data vector\"\"\"\n",
    "        return np.sum(self.data)/len(self.data)"
   ]
  },
  {
   "cell_type": "markdown",
   "metadata": {
    "slideshow": {
     "slide_type": "slide"
    }
   },
   "source": [
    "# OOP concept\n",
    "## Procedural programming\n",
    "Write functions that perform operations on data"
   ]
  },
  {
   "cell_type": "code",
   "execution_count": 55,
   "metadata": {
    "slideshow": {
     "slide_type": "fragment"
    }
   },
   "outputs": [
    {
     "name": "stdout",
     "output_type": "stream",
     "text": [
      "2.5\n"
     ]
    }
   ],
   "source": [
    "myData = np.array([1.0, 2.5, 4.0])\n",
    "s = mean(myData)\n",
    "print(s)"
   ]
  },
  {
   "cell_type": "markdown",
   "metadata": {
    "slideshow": {
     "slide_type": "fragment"
    }
   },
   "source": [
    "## Vs.\n",
    "## OOP = Oriented-object programming\n",
    "Create objects that contain both data and functions"
   ]
  },
  {
   "cell_type": "code",
   "execution_count": 56,
   "metadata": {},
   "outputs": [
    {
     "name": "stdout",
     "output_type": "stream",
     "text": [
      "2.5\n"
     ]
    }
   ],
   "source": [
    "myData = np.array([1.0, 2.5, 4.0])\n",
    "d = Data(myData)\n",
    "s = d.mean()\n",
    "print(s)"
   ]
  },
  {
   "cell_type": "markdown",
   "metadata": {
    "slideshow": {
     "slide_type": "slide"
    }
   },
   "source": [
    "## Why OOP?\n",
    "* **Encapsulation:** in OOP, you bundle code into a single unit where you can determine the scope of each piece of data.\n",
    "* **Abstraction:** by using classes, you are able to generalize your object types, simplifying your program.\n",
    "* **Inheritance:** because a class can inherit attributes and behaviors from another class, you are able to reuse more code.\n",
    "* **Polymorphism:** one class can be used to create many objects, all from the same flexible piece of code.\n",
    "https://www.codecademy.com/articles/cpp-object-oriented-programming\n",
    "\n",
    "But OOP is not always the optimal way of implementing! It depends on the scope, complexity, repeatability of task, … so think about the structure of your code before implementing …"
   ]
  },
  {
   "cell_type": "markdown",
   "metadata": {
    "slideshow": {
     "slide_type": "slide"
    }
   },
   "source": [
    "## An over simplified example\n",
    "* A **class** is a template/blueprint for objects --> CAR\n",
    "* An **object** is an instance of a class --> Volvo XC40, Alfa Giulia, Mercedes Class A\n",
    "\n",
    "When the individual objects are created, they inherit all the attributes and methods from the class.\n",
    "\n",
    "In real life, the car has:\n",
    "* **attributes** --> as weight and color\n",
    "* **methods** --> as drive and brake.\n"
   ]
  },
  {
   "cell_type": "markdown",
   "metadata": {
    "slideshow": {
     "slide_type": "slide"
    }
   },
   "source": [
    "# Everything is an object (in the Python World)"
   ]
  },
  {
   "cell_type": "code",
   "execution_count": 57,
   "metadata": {},
   "outputs": [
    {
     "name": "stdout",
     "output_type": "stream",
     "text": [
      "<class 'int'>\n",
      "1\n",
      "1\n"
     ]
    }
   ],
   "source": [
    "yo = 1\n",
    "print(type(yo))\n",
    "print(yo.real)\n",
    "print(yo.__abs__())\n"
   ]
  },
  {
   "cell_type": "code",
   "execution_count": 58,
   "metadata": {},
   "outputs": [
    {
     "name": "stdout",
     "output_type": "stream",
     "text": [
      "<class 'numpy.ndarray'>\n",
      "2\n",
      "2.0\n"
     ]
    }
   ],
   "source": [
    "from numpy import array\n",
    "a = array([1.0, 2.0])\n",
    "print(type(a))\n",
    "print(a.size)\n",
    "print(a.max())\n"
   ]
  },
  {
   "cell_type": "markdown",
   "metadata": {
    "slideshow": {
     "slide_type": "slide"
    }
   },
   "source": [
    "## Create a class and definitions"
   ]
  },
  {
   "cell_type": "code",
   "execution_count": 59,
   "metadata": {},
   "outputs": [],
   "source": [
    "class Data:    # Defines a class, having a name starting by a capital letter (usual python convention)\n",
    "    \"\"\"Class for data array manipulation\"\"\"\n",
    "\n",
    "    name = 'data'    # Class attribute\n",
    "    \n",
    "    def __init__(self, data):    # Instance constructor – this is called when you create the object\n",
    "        \"\"\"Initialize\"\"\"\n",
    "        self.data = data    # Instance attribute\n",
    "    \n",
    "    def mean(self):    # Instance method\n",
    "        \"\"\"Perform mean over data vector\"\"\"\n",
    "        return np.sum(self.data)/len(self.data)"
   ]
  },
  {
   "cell_type": "markdown",
   "metadata": {
    "slideshow": {
     "slide_type": "slide"
    }
   },
   "source": [
    "# Class and instance attributes in practice"
   ]
  },
  {
   "cell_type": "code",
   "execution_count": 60,
   "metadata": {
    "slideshow": {
     "slide_type": "-"
    }
   },
   "outputs": [
    {
     "name": "stdout",
     "output_type": "stream",
     "text": [
      "Class attribute of d1: data\n",
      "Class attribute of d2: data\n",
      "Instance attribute of d1: [1.  2.5 4. ]\n",
      "Instance attribute of d2: [2. 5. 8.]\n"
     ]
    }
   ],
   "source": [
    "# data sets\n",
    "myData1 = np.array([1.0, 2.5, 4.0])\n",
    "myData2 = np.array([2.0, 5.0, 8.0])\n",
    "\n",
    "# Instantiate objects\n",
    "d1 = Data(myData1)\n",
    "d2 = Data(myData2)\n",
    "\n",
    "print(f\"Class attribute of d1: {d1.name}\")\n",
    "print(f\"Class attribute of d2: {d2.name}\")\n",
    "print(f\"Instance attribute of d1: {d1.data}\")\n",
    "print(f\"Instance attribute of d2: {d2.data}\")"
   ]
  },
  {
   "cell_type": "markdown",
   "metadata": {},
   "source": [
    "* The class attributes are the same for all objects\n",
    "* Each object has its own instance attributes\n",
    "* Changing class attribute through the class name reflects it to all instances\n",
    "* Changing class attribute through an instance only reflects it to that particular instance\n",
    "    (!!! You overwrite the class attribute !!!)\n"
   ]
  },
  {
   "cell_type": "code",
   "execution_count": 61,
   "metadata": {},
   "outputs": [
    {
     "name": "stdout",
     "output_type": "stream",
     "text": [
      "signal\n",
      "signal\n"
     ]
    }
   ],
   "source": [
    "Data.name = 'signal'\n",
    "print(d1.name)\n",
    "print(d2.name)"
   ]
  },
  {
   "cell_type": "code",
   "execution_count": 62,
   "metadata": {},
   "outputs": [
    {
     "name": "stdout",
     "output_type": "stream",
     "text": [
      "signal2\n",
      "signal\n"
     ]
    }
   ],
   "source": [
    "d1.name = 'signal2'\n",
    "print(d1.name)\n",
    "print(d2.name)"
   ]
  },
  {
   "cell_type": "markdown",
   "metadata": {
    "slideshow": {
     "slide_type": "slide"
    }
   },
   "source": [
    "## Inheritance\n",
    "Inheritance consists in defining a class that inherits all the methods and properties/attributes from another class\n",
    "* Parent class is the class being inherited from\n",
    "* Child class is the class that inherits from another class\n",
    "\n",
    "This allows to re-use parts of code from Parent to Child, and extend functionalities in the Child class compared to Parent"
   ]
  },
  {
   "cell_type": "markdown",
   "metadata": {
    "slideshow": {
     "slide_type": "slide"
    }
   },
   "source": [
    "## Example of class inheritance"
   ]
  },
  {
   "cell_type": "code",
   "execution_count": 63,
   "metadata": {},
   "outputs": [
    {
     "name": "stdout",
     "output_type": "stream",
     "text": [
      "Name: Julien Christophe\n"
     ]
    }
   ],
   "source": [
    "class VKIEmployee:\n",
    "    def __init__(self, first_name, last_name):\n",
    "        self.first_name = first_name\n",
    "        self.last_name = last_name\n",
    "        \n",
    "    def print_name(self):\n",
    "        print(f\"Name: {self.first_name} {self.last_name}\")\n",
    "        \n",
    "julien = VKIEmployee('Julien', 'Christophe')\n",
    "julien.print_name()"
   ]
  },
  {
   "cell_type": "code",
   "execution_count": 64,
   "metadata": {},
   "outputs": [
    {
     "name": "stdout",
     "output_type": "stream",
     "text": [
      "Name: Jack Jones\n"
     ]
    },
    {
     "data": {
      "text/plain": [
       "['NSIP2', 'TSC']"
      ]
     },
     "execution_count": 64,
     "metadata": {},
     "output_type": "execute_result"
    }
   ],
   "source": [
    "class Student(VKIEmployee):\n",
    "    def __init__(self, first_name, last_name, dept):\n",
    "        VKIEmployee.__init__(self, first_name, last_name)\n",
    "        self.dept = dept\n",
    "        self.courses = []\n",
    "        \n",
    "    def add_course(self, course):\n",
    "        self.courses.append(course)\n",
    "\n",
    "jack = Student('Jack', 'Jones', 'EA')\n",
    "jack.print_name()\n",
    "jack.add_course('NSIP2')\n",
    "jack.add_course('TSC')\n",
    "jack.courses"
   ]
  },
  {
   "cell_type": "code",
   "execution_count": 65,
   "metadata": {},
   "outputs": [
    {
     "ename": "AttributeError",
     "evalue": "'VKIEmployee' object has no attribute 'courses'",
     "output_type": "error",
     "traceback": [
      "\u001b[0;31m---------------------------------------------------------------------------\u001b[0m",
      "\u001b[0;31mAttributeError\u001b[0m                            Traceback (most recent call last)",
      "\u001b[0;32m/tmp/ipykernel_28535/1899347557.py\u001b[0m in \u001b[0;36m<module>\u001b[0;34m\u001b[0m\n\u001b[0;32m----> 1\u001b[0;31m \u001b[0mjulien\u001b[0m\u001b[0;34m.\u001b[0m\u001b[0mcourses\u001b[0m\u001b[0;34m\u001b[0m\u001b[0;34m\u001b[0m\u001b[0m\n\u001b[0m",
      "\u001b[0;31mAttributeError\u001b[0m: 'VKIEmployee' object has no attribute 'courses'"
     ]
    }
   ],
   "source": [
    "julien.courses"
   ]
  }
 ],
 "metadata": {
  "celltoolbar": "Slideshow",
  "kernelspec": {
   "display_name": "Python 3",
   "language": "python",
   "name": "python3"
  },
  "language_info": {
   "codemirror_mode": {
    "name": "ipython",
    "version": 3
   },
   "file_extension": ".py",
   "mimetype": "text/x-python",
   "name": "python",
   "nbconvert_exporter": "python",
   "pygments_lexer": "ipython3",
   "version": "3.8.12"
  },
  "varInspector": {
   "cols": {
    "lenName": 16,
    "lenType": 16,
    "lenVar": 40
   },
   "kernels_config": {
    "python": {
     "delete_cmd_postfix": "",
     "delete_cmd_prefix": "del ",
     "library": "var_list.py",
     "varRefreshCmd": "print(var_dic_list())"
    },
    "r": {
     "delete_cmd_postfix": ") ",
     "delete_cmd_prefix": "rm(",
     "library": "var_list.r",
     "varRefreshCmd": "cat(var_dic_list()) "
    }
   },
   "types_to_exclude": [
    "module",
    "function",
    "builtin_function_or_method",
    "instance",
    "_Feature"
   ],
   "window_display": false
  }
 },
 "nbformat": 4,
 "nbformat_minor": 2
}
