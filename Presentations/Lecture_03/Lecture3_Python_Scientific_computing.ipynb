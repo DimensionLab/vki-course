{
 "cells": [
  {
   "cell_type": "markdown",
   "metadata": {
    "slideshow": {
     "slide_type": "slide"
    }
   },
   "source": [
    "# Lecture 3: An Introduction to Scientific Computing with Python\n",
    "<br>\n",
    "<center> Francisco Torres-Herrador<br> 07/02/2022 </center>\n",
    "\n",
    "<center><img src=\"VKI_logo_text.png\" width=\"15%\" /></center>\n"
   ]
  },
  {
   "cell_type": "markdown",
   "metadata": {
    "slideshow": {
     "slide_type": "slide"
    }
   },
   "source": [
    "# Contents\n",
    "\n",
    "## <font color='black'> - Numpy </font>\n",
    "\n",
    "## <font color='black'> - Matplotlib </font>\n",
    "\n",
    "## <font color='black'> - Scipy </font>\n",
    "\n",
    "\n",
    "## Exercises \n",
    "\n",
    "- Read and plot data\n",
    "- Random numbers and histograms"
   ]
  },
  {
   "cell_type": "markdown",
   "metadata": {
    "slideshow": {
     "slide_type": "slide"
    }
   },
   "source": [
    "# Contents\n",
    "\n",
    "## <font color='black'> - Numpy </font>\n",
    "\n",
    "## <font color='grey'> - Matplotlib </font>\n",
    "\n",
    "## <font color='grey'> - Scipy </font>\n",
    "\n",
    "\n",
    "## Exercises \n",
    "\n",
    "- Read and plot data\n",
    "- Random numbers and histograms"
   ]
  },
  {
   "cell_type": "markdown",
   "metadata": {
    "slideshow": {
     "slide_type": "slide"
    }
   },
   "source": [
    "## Numpy: the matrix manipulator\n",
    "* Provides high-performance vector, matrix and higher-dimensional data structures for Python\n",
    "* Implemented in C and Fortran for vectorized calculations (formulated with vectors and matrices) to have good performances\n",
    "* Numpy is imported using:"
   ]
  },
  {
   "cell_type": "code",
   "execution_count": 1,
   "metadata": {
    "run_control": {
     "marked": false
    }
   },
   "outputs": [],
   "source": [
    "import numpy as np # by convention alias np"
   ]
  },
  {
   "cell_type": "markdown",
   "metadata": {},
   "source": [
    "Check here the list of almost all useful functions: <br>\n",
    "https://numpy.org/devdocs/user/numpy-for-matlab-users.html"
   ]
  },
  {
   "cell_type": "markdown",
   "metadata": {
    "slideshow": {
     "slide_type": "slide"
    }
   },
   "source": [
    "## Multiple ways of creating numpy arrays\n",
    "* From lists:"
   ]
  },
  {
   "cell_type": "code",
   "execution_count": 2,
   "metadata": {
    "run_control": {
     "marked": false
    }
   },
   "outputs": [
    {
     "name": "stdout",
     "output_type": "stream",
     "text": [
      "[[2 7 9]\n",
      " [4 3 3]\n",
      " [8 1 0]]\n"
     ]
    },
    {
     "data": {
      "text/plain": [
       "numpy.ndarray"
      ]
     },
     "execution_count": 2,
     "metadata": {},
     "output_type": "execute_result"
    }
   ],
   "source": [
    "m = np.array([[2,7,9], [4,3,3],[8,1,0]]); print(m)\n",
    "type(m)"
   ]
  },
  {
   "cell_type": "markdown",
   "metadata": {
    "slideshow": {
     "slide_type": "fragment"
    }
   },
   "source": [
    "* Using functions:"
   ]
  },
  {
   "cell_type": "code",
   "execution_count": 3,
   "metadata": {
    "run_control": {
     "marked": false
    }
   },
   "outputs": [
    {
     "name": "stdout",
     "output_type": "stream",
     "text": [
      "[[0. 0.]\n",
      " [0. 0.]\n",
      " [0. 0.]]\n",
      "[[1. 1. 1.]\n",
      " [1. 1. 1.]]\n",
      "[ 0.  5. 10.]\n",
      "[  10.  100. 1000.]\n"
     ]
    }
   ],
   "source": [
    "print(np.zeros((3, 2)))\n",
    "print(np.ones((2, 3)))\n",
    "print(np.linspace(0.0, 10.0, 3))\n",
    "print(np.logspace(1.0, 3.0, 3))"
   ]
  },
  {
   "cell_type": "code",
   "execution_count": 4,
   "metadata": {
    "run_control": {
     "marked": false
    }
   },
   "outputs": [
    {
     "name": "stdout",
     "output_type": "stream",
     "text": [
      "[[0.66654839 0.15653709 0.89851319 0.31345401]\n",
      " [0.09526442 0.74339405 0.56887685 0.64758033]]\n"
     ]
    }
   ],
   "source": [
    "print(np.random.rand(2, 4))"
   ]
  },
  {
   "cell_type": "markdown",
   "metadata": {
    "slideshow": {
     "slide_type": "slide"
    }
   },
   "source": [
    "## Matrix properties"
   ]
  },
  {
   "cell_type": "code",
   "execution_count": 5,
   "metadata": {
    "run_control": {
     "marked": false
    }
   },
   "outputs": [
    {
     "name": "stdout",
     "output_type": "stream",
     "text": [
      "[[2 7 9]\n",
      " [4 3 3]\n",
      " [8 1 0]]\n"
     ]
    }
   ],
   "source": [
    "print(m)"
   ]
  },
  {
   "cell_type": "code",
   "execution_count": 6,
   "metadata": {
    "run_control": {
     "marked": false
    }
   },
   "outputs": [
    {
     "name": "stdout",
     "output_type": "stream",
     "text": [
      "(3, 3)\n",
      "(3, 3)\n",
      "9\n",
      "9\n"
     ]
    }
   ],
   "source": [
    "print(m.shape) # shape of matrix\n",
    "print(np.shape(m))\n",
    "print(m.size) # number of elements\n",
    "print(np.size(m))"
   ]
  },
  {
   "cell_type": "markdown",
   "metadata": {
    "slideshow": {
     "slide_type": "slide"
    }
   },
   "source": [
    "## Indexing and slicing arrays as for lists"
   ]
  },
  {
   "cell_type": "code",
   "execution_count": 7,
   "metadata": {
    "run_control": {
     "marked": false
    }
   },
   "outputs": [
    {
     "name": "stdout",
     "output_type": "stream",
     "text": [
      "[[2 7 9]\n",
      " [4 3 3]\n",
      " [8 1 0]]\n"
     ]
    }
   ],
   "source": [
    "print(m)"
   ]
  },
  {
   "cell_type": "code",
   "execution_count": 8,
   "metadata": {
    "run_control": {
     "marked": false
    }
   },
   "outputs": [
    {
     "name": "stdout",
     "output_type": "stream",
     "text": [
      "2\n"
     ]
    }
   ],
   "source": [
    "print(m[0, 0])"
   ]
  },
  {
   "cell_type": "code",
   "execution_count": 9,
   "metadata": {
    "run_control": {
     "marked": false
    }
   },
   "outputs": [
    {
     "name": "stdout",
     "output_type": "stream",
     "text": [
      "[9 3 0]\n"
     ]
    }
   ],
   "source": [
    "print(m[:, -1]) # get the last column"
   ]
  },
  {
   "cell_type": "code",
   "execution_count": 10,
   "metadata": {
    "run_control": {
     "marked": false
    }
   },
   "outputs": [
    {
     "name": "stdout",
     "output_type": "stream",
     "text": [
      "[7 3]\n"
     ]
    }
   ],
   "source": [
    "print(m[0:2, 1]) # get two first elements of first column"
   ]
  },
  {
   "cell_type": "code",
   "execution_count": 11,
   "metadata": {
    "run_control": {
     "marked": false
    }
   },
   "outputs": [
    {
     "name": "stdout",
     "output_type": "stream",
     "text": [
      "[2 8]\n"
     ]
    }
   ],
   "source": [
    "print(m[[0, 2], 0]) # from column 0, get elements 0 and 2"
   ]
  },
  {
   "cell_type": "markdown",
   "metadata": {
    "slideshow": {
     "slide_type": "slide"
    }
   },
   "source": [
    "## Linear algebra\n",
    "* Element-wise operations:"
   ]
  },
  {
   "cell_type": "code",
   "execution_count": 12,
   "metadata": {
    "run_control": {
     "marked": false
    },
    "scrolled": true
   },
   "outputs": [
    {
     "data": {
      "text/plain": [
       "array([[ 0,  2,  4],\n",
       "       [ 6,  8, 10]])"
      ]
     },
     "execution_count": 12,
     "metadata": {},
     "output_type": "execute_result"
    }
   ],
   "source": [
    "m = np.array([[0, 1, 2], [3, 4, 5]]) # our initial matrix\n",
    "m*2"
   ]
  },
  {
   "cell_type": "code",
   "execution_count": 13,
   "metadata": {
    "run_control": {
     "marked": false
    }
   },
   "outputs": [
    {
     "data": {
      "text/plain": [
       "array([[2, 3, 4],\n",
       "       [5, 6, 7]])"
      ]
     },
     "execution_count": 13,
     "metadata": {},
     "output_type": "execute_result"
    }
   ],
   "source": [
    "m+2 "
   ]
  },
  {
   "cell_type": "code",
   "execution_count": 14,
   "metadata": {
    "run_control": {
     "marked": false
    }
   },
   "outputs": [
    {
     "data": {
      "text/plain": [
       "array([[ 0,  1,  4],\n",
       "       [ 9, 16, 25]])"
      ]
     },
     "execution_count": 14,
     "metadata": {},
     "output_type": "execute_result"
    }
   ],
   "source": [
    "m**2"
   ]
  },
  {
   "cell_type": "markdown",
   "metadata": {
    "slideshow": {
     "slide_type": "fragment"
    }
   },
   "source": [
    "* Matrix algebra:"
   ]
  },
  {
   "cell_type": "code",
   "execution_count": 15,
   "metadata": {
    "run_control": {
     "marked": false
    }
   },
   "outputs": [
    {
     "name": "stdout",
     "output_type": "stream",
     "text": [
      "[[0 1 2]\n",
      " [3 4 5]]\n",
      "(2, 3)\n",
      "[1 2 3]\n",
      "(3,)\n"
     ]
    }
   ],
   "source": [
    "v = (np.array([1, 2, 3]))\n",
    "print(m)\n",
    "print(m.shape)\n",
    "print(v)\n",
    "print(v.shape)"
   ]
  },
  {
   "cell_type": "code",
   "execution_count": 16,
   "metadata": {
    "run_control": {
     "marked": false
    }
   },
   "outputs": [
    {
     "name": "stdout",
     "output_type": "stream",
     "text": [
      "[ 8 26]\n",
      "[ 8 26]\n",
      "[ 8 26]\n"
     ]
    }
   ],
   "source": [
    "print(m.dot(v)) # matrix multiplication\n",
    "print(np.dot(m, v))\n",
    "print(m @ v)"
   ]
  },
  {
   "cell_type": "code",
   "execution_count": 17,
   "metadata": {
    "run_control": {
     "marked": false
    }
   },
   "outputs": [
    {
     "name": "stdout",
     "output_type": "stream",
     "text": [
      "[[0 3]\n",
      " [1 4]\n",
      " [2 5]]\n",
      "[[0 3]\n",
      " [1 4]\n",
      " [2 5]]\n",
      "[0 1 2 3 4 5]\n"
     ]
    }
   ],
   "source": [
    "print(m.transpose()) # transpose\n",
    "print(m.T) # transpose, shorter\n",
    "print(m.flatten()) # convert to 1D vector"
   ]
  },
  {
   "cell_type": "code",
   "execution_count": 18,
   "metadata": {},
   "outputs": [
    {
     "name": "stdout",
     "output_type": "stream",
     "text": [
      "(6, 1)\n"
     ]
    }
   ],
   "source": [
    "# reshape\n",
    "m_reshape = m.reshape(6,1)\n",
    "print(m_reshape.shape)"
   ]
  },
  {
   "cell_type": "markdown",
   "metadata": {
    "slideshow": {
     "slide_type": "slide"
    }
   },
   "source": [
    "### About dimensions in numpy...\n",
    "\n",
    "This is used sometimes in sklearn"
   ]
  },
  {
   "cell_type": "code",
   "execution_count": 19,
   "metadata": {
    "slideshow": {
     "slide_type": "-"
    }
   },
   "outputs": [
    {
     "name": "stdout",
     "output_type": "stream",
     "text": [
      "(6, 1)\n",
      "(3,)\n"
     ]
    }
   ],
   "source": [
    "print(m_reshape.shape)\n",
    "print(v.shape)"
   ]
  },
  {
   "cell_type": "code",
   "execution_count": 20,
   "metadata": {},
   "outputs": [
    {
     "name": "stdout",
     "output_type": "stream",
     "text": [
      "(3, 1)\n"
     ]
    }
   ],
   "source": [
    "v = np.expand_dims(v, axis=1)\n",
    "print(v.shape)"
   ]
  },
  {
   "cell_type": "markdown",
   "metadata": {
    "slideshow": {
     "slide_type": "slide"
    }
   },
   "source": [
    "## Numpy does not change the original matrix inplace\n",
    "### Assign to a new variable if needed"
   ]
  },
  {
   "cell_type": "code",
   "execution_count": 21,
   "metadata": {
    "run_control": {
     "marked": false
    },
    "slideshow": {
     "slide_type": "fragment"
    }
   },
   "outputs": [
    {
     "name": "stdout",
     "output_type": "stream",
     "text": [
      "[[0 1 2]\n",
      " [3 4 5]]\n",
      "[[0 3]\n",
      " [1 4]\n",
      " [2 5]]\n",
      "---Square matrix did not change---\n",
      "[[0 1 2]\n",
      " [3 4 5]]\n"
     ]
    }
   ],
   "source": [
    "print(m)\n",
    "print(m.T)\n",
    "print('---Square matrix did not change---')\n",
    "print(m)"
   ]
  },
  {
   "cell_type": "markdown",
   "metadata": {
    "slideshow": {
     "slide_type": "skip"
    }
   },
   "source": [
    "### Calculate inverse and check if identity matrix is recovered"
   ]
  },
  {
   "cell_type": "code",
   "execution_count": 22,
   "metadata": {
    "run_control": {
     "marked": false
    },
    "slideshow": {
     "slide_type": "skip"
    }
   },
   "outputs": [
    {
     "name": "stdout",
     "output_type": "stream",
     "text": [
      "[[ 1.  0.  0.]\n",
      " [ 0.  1.  0.]\n",
      " [ 0. -0.  1.]]\n"
     ]
    }
   ],
   "source": [
    "square_matrix = np.array([[2,7,9], [4,2,3],[0,1,9]])\n",
    "inverse_matrix = np.linalg.inv(square_matrix)\n",
    "identity_matrix = square_matrix.dot(inverse_matrix)\n",
    "print(np.around(identity_matrix, decimals=0)) # Roundoff error"
   ]
  },
  {
   "cell_type": "markdown",
   "metadata": {
    "slideshow": {
     "slide_type": "slide"
    }
   },
   "source": [
    "## Numpy matrix algebra is faster than loops!\n",
    "### To check this, let's calculate the modulus of a vector in three ways:\n",
    "1. Loops\n",
    "2. Matrix multiplication\n",
    "3. Built-in function"
   ]
  },
  {
   "cell_type": "code",
   "execution_count": 23,
   "metadata": {
    "run_control": {
     "marked": false
    },
    "slideshow": {
     "slide_type": "fragment"
    }
   },
   "outputs": [],
   "source": [
    "import time # to compute the time neeed\n",
    "# Vector of n points between [-10, 10]\n",
    "n = 10000000\n",
    "v = np.random.normal(loc=0, scale=20, size=n); # use of ; avoids print of ouput in jupyter"
   ]
  },
  {
   "cell_type": "markdown",
   "metadata": {
    "slideshow": {
     "slide_type": "slide"
    }
   },
   "source": [
    "## With loops: $|\\textbf{v}|=\\sqrt{\\sum v_i^2}$\n"
   ]
  },
  {
   "cell_type": "code",
   "execution_count": 24,
   "metadata": {
    "run_control": {
     "marked": false
    }
   },
   "outputs": [
    {
     "name": "stdout",
     "output_type": "stream",
     "text": [
      "Module is: 63217.60994740732\n",
      "Execution time : 5.882690906524658  s\n"
     ]
    }
   ],
   "source": [
    "start = time.time() # get start time\n",
    "\n",
    "sum_vectors_squared = 0\n",
    "for vi in v:\n",
    "    sum_vectors_squared += vi**2\n",
    "module = np.sqrt(sum_vectors_squared)\n",
    "\n",
    "end = time.time() # get end time\n",
    "\n",
    "print(\"Module is:\",module)\n",
    "print(\"Execution time :\",end-start,\" s\")"
   ]
  },
  {
   "cell_type": "markdown",
   "metadata": {
    "slideshow": {
     "slide_type": "slide"
    }
   },
   "source": [
    "## With matrices:  $|\\textbf{v}|=\\sqrt{ v^T\\cdot v}$"
   ]
  },
  {
   "cell_type": "code",
   "execution_count": 25,
   "metadata": {
    "run_control": {
     "marked": false
    }
   },
   "outputs": [
    {
     "name": "stdout",
     "output_type": "stream",
     "text": [
      "Module is: 63217.60994740611\n",
      "Execution time : 0.0074841976165771484  s\n"
     ]
    }
   ],
   "source": [
    "start = time.time()\n",
    "\n",
    "product = v.transpose().dot(v)\n",
    "module = np.sqrt(product)\n",
    "\n",
    "end = time.time()\n",
    "\n",
    "print(\"Module is:\",module)\n",
    "print(\"Execution time :\",end-start,\" s\")"
   ]
  },
  {
   "cell_type": "markdown",
   "metadata": {
    "slideshow": {
     "slide_type": "slide"
    }
   },
   "source": [
    "## With built-in function norm: $|\\textbf{v}|=$`np.norm(v)`"
   ]
  },
  {
   "cell_type": "code",
   "execution_count": 26,
   "metadata": {
    "run_control": {
     "marked": false
    }
   },
   "outputs": [
    {
     "name": "stdout",
     "output_type": "stream",
     "text": [
      "Module is: 63217.60994740611\n",
      "Execution time : 0.0038220882415771484  s\n"
     ]
    }
   ],
   "source": [
    "start = time.time()\n",
    "\n",
    "module = np.linalg.norm(v)\n",
    "\n",
    "end = time.time()\n",
    "\n",
    "print(\"Module is:\",module)\n",
    "print(\"Execution time :\",end-start,\" s\")"
   ]
  },
  {
   "cell_type": "markdown",
   "metadata": {
    "slideshow": {
     "slide_type": "fragment"
    }
   },
   "source": [
    "### Conclusion: ALWAYS search for built-in functions\n",
    "### They are faster, cleaner and easy to use\n",
    "### You will save a lot of time"
   ]
  },
  {
   "cell_type": "markdown",
   "metadata": {
    "slideshow": {
     "slide_type": "slide"
    }
   },
   "source": [
    "## Extra trick: A better way to time your functions...use a decorator!"
   ]
  },
  {
   "cell_type": "code",
   "execution_count": 27,
   "metadata": {
    "run_control": {
     "marked": false
    }
   },
   "outputs": [],
   "source": [
    "from time import time\n",
    "\n",
    "def timer(func):\n",
    "    # This function shows the execution time of \n",
    "    # the function object passed\n",
    "    def wrapper(*args, **kwargs):\n",
    "        t1 = time()\n",
    "        result = func(*args, **kwargs)\n",
    "        t2 = time()\n",
    "        print(f'Function {func.__name__!r} executed in {(t2-t1):.4f}s')\n",
    "        return result\n",
    "    return wrapper"
   ]
  },
  {
   "cell_type": "code",
   "execution_count": 28,
   "metadata": {
    "code_folding": [],
    "run_control": {
     "marked": false
    }
   },
   "outputs": [
    {
     "name": "stdout",
     "output_type": "stream",
     "text": [
      "Function 'compute_module' executed in 0.0001s\n",
      "Function 'compute_module' executed in 0.0029s\n"
     ]
    },
    {
     "data": {
      "text/plain": [
       "417.1330722922842"
      ]
     },
     "execution_count": 28,
     "metadata": {},
     "output_type": "execute_result"
    }
   ],
   "source": [
    "import numpy\n",
    "\n",
    "@timer\n",
    "def compute_module(v):\n",
    "    module = np.linalg.norm(v)\n",
    "    return module\n",
    "\n",
    "v = [1, 3, 4, 5, 6]\n",
    "compute_module(v)\n",
    "\n",
    "v = [1, 3, 4, 5, 6]*2000\n",
    "compute_module(v)"
   ]
  },
  {
   "cell_type": "markdown",
   "metadata": {
    "slideshow": {
     "slide_type": "slide"
    }
   },
   "source": [
    "# Contents\n",
    "\n",
    "## <font color='grey'> - Numpy </font>\n",
    "\n",
    "## <font color='Black'> - Matplotlib </font>\n",
    "\n",
    "## <font color='grey'> - Scipy </font>\n",
    "\n",
    "\n",
    "## Exercises \n",
    "\n",
    "- Read and plot data\n",
    "- Random numbers and histograms"
   ]
  },
  {
   "cell_type": "markdown",
   "metadata": {
    "slideshow": {
     "slide_type": "slide"
    }
   },
   "source": [
    "## Matplotlib: publication quality plots\n",
    "* Provides capabilities for plotting similar to Matlab\n",
    "* Interactive and animated figures\n",
    "* Posibility for LaTeX rendering for improved quality\n",
    "* Most other plotting libraries rely on Matplotlib or use a similar syntax\n"
   ]
  },
  {
   "cell_type": "markdown",
   "metadata": {
    "slideshow": {
     "slide_type": "fragment"
    }
   },
   "source": [
    "### The pyplot sub-module is the most useful for us"
   ]
  },
  {
   "cell_type": "code",
   "execution_count": 29,
   "metadata": {
    "run_control": {
     "marked": false
    }
   },
   "outputs": [],
   "source": [
    "# # for interactive plotting in jupyter\n",
    "# %matplotlib widget \n",
    "# for static plotting in jupyter\n",
    "%matplotlib inline \n",
    "\n",
    "\n",
    "import matplotlib.pyplot as plt # import as an alias for easier typing.\n"
   ]
  },
  {
   "cell_type": "markdown",
   "metadata": {
    "slideshow": {
     "slide_type": "slide"
    }
   },
   "source": [
    "## Let's make a simple parabola plot"
   ]
  },
  {
   "cell_type": "code",
   "execution_count": 30,
   "metadata": {
    "run_control": {
     "marked": false
    },
    "scrolled": true,
    "slideshow": {
     "slide_type": "fragment"
    }
   },
   "outputs": [
    {
     "data": {
      "text/plain": [
       "[<matplotlib.lines.Line2D at 0x7f8fd4a27a00>]"
      ]
     },
     "execution_count": 30,
     "metadata": {},
     "output_type": "execute_result"
    },
    {
     "data": {
      "image/png": "[encoded data removed]",
      "text/plain": [
       "<Figure size 432x288 with 1 Axes>"
      ]
     },
     "metadata": {
      "needs_background": "light"
     },
     "output_type": "display_data"
    }
   ],
   "source": [
    "x = [1, 2, 3, 4, 5, 6, 7, 8, 9, 10, 11, 12, 13, 14, 15]\n",
    "y = [1, 4, 9, 16, 25, 36, 49, 64, 81, 100, 121, 144, 169, 196, 225]\n",
    "\n",
    "fig, ax = plt.subplots()\n",
    "ax.set_xlabel('X axis')\n",
    "ax.set_ylabel('Y axis')\n",
    "ax.set_title('Parabola')\n",
    "ax.plot(x, y)"
   ]
  },
  {
   "cell_type": "markdown",
   "metadata": {
    "slideshow": {
     "slide_type": "slide"
    }
   },
   "source": [
    "## Customize your plots"
   ]
  },
  {
   "cell_type": "code",
   "execution_count": 31,
   "metadata": {
    "run_control": {
     "marked": false
    },
    "scrolled": false
   },
   "outputs": [
    {
     "data": {
      "image/png": "[encoded data removed]",
      "text/plain": [
       "<Figure size 432x288 with 1 Axes>"
      ]
     },
     "metadata": {
      "needs_background": "light"
     },
     "output_type": "display_data"
    }
   ],
   "source": [
    "# Use LaTeX fonts:\n",
    "plt.style.use({'font.family': 'STIXGeneral',\n",
    "               'font.serif': 'Computer Modern',\n",
    "               'font.sans-serif': 'Computer Modern Sans serif',})\n",
    "\n",
    "y_noisy = np.random.normal(y, 5) # create some noisy data to simulate the experimental points\n",
    "\n",
    "# create a new plot\n",
    "fig2, ax2 = plt.subplots()\n",
    "ax2.set_xlabel('X axis')\n",
    "ax2.set_ylabel('Y axis')\n",
    "ax2.plot(x,y, label='2nd order polynomial')\n",
    "ax2.plot(x,y_noisy,'rd--', label='Experimental points', alpha=0.5)\n",
    "ax2.grid()\n",
    "ax2.set_xlim([0, 10])\n",
    "ax2.set_ylim([0, 125])\n",
    "ax2.legend()\n",
    "fig2.savefig('figure.png')"
   ]
  },
  {
   "cell_type": "markdown",
   "metadata": {
    "slideshow": {
     "slide_type": "slide"
    }
   },
   "source": [
    "## Creating an animation\n",
    "Generating the parabola step by step"
   ]
  },
  {
   "cell_type": "code",
   "execution_count": 32,
   "metadata": {
    "run_control": {
     "marked": false
    }
   },
   "outputs": [],
   "source": [
    "import os\n",
    "\n",
    "temp_folder = 'gif_temp'\n",
    "if not os.path.exists(temp_folder):\n",
    "    os.mkdir(temp_folder)"
   ]
  },
  {
   "cell_type": "code",
   "execution_count": 33,
   "metadata": {
    "run_control": {
     "marked": false
    }
   },
   "outputs": [
    {
     "name": "stdout",
     "output_type": "stream",
     "text": [
      "Image 0 saved\n",
      "Image 1 saved\n",
      "Image 2 saved\n",
      "Image 3 saved\n",
      "Image 4 saved\n",
      "Image 5 saved\n",
      "Image 6 saved\n",
      "Image 7 saved\n",
      "Image 8 saved\n",
      "Image 9 saved\n",
      "Image 10 saved\n",
      "Image 11 saved\n",
      "Image 12 saved\n",
      "Image 13 saved\n",
      "Image 14 saved\n"
     ]
    },
    {
     "data": {
      "image/png": "[encoded data removed]",
      "text/plain": [
       "<Figure size 432x288 with 1 Axes>"
      ]
     },
     "metadata": {
      "needs_background": "light"
     },
     "output_type": "display_data"
    }
   ],
   "source": [
    "figAnim, axanim = plt.subplots()\n",
    "\n",
    "# set plot properties that do not change.\n",
    "axanim.set_xlabel('X axis')\n",
    "axanim.set_ylabel('Y axis')\n",
    "axanim.set_xlim([0, 10])\n",
    "axanim.set_ylim([0, 125])\n",
    "axanim.plot(x,y, label='2nd order polynomial')\n",
    "axanim.grid()\n",
    "\n",
    "for i,_ in enumerate(x):\n",
    "    current_points = axanim.plot(x[:i],y_noisy[:i],'rd--', label='Experimental points', alpha=0.5)\n",
    "    figAnim.savefig(f'{temp_folder}/Im_{str(i).zfill(2)}.png') # the use of zfill allows to recover them ordered\n",
    "    print(f'Image {i} saved')\n",
    "    # remove the current points for a clean plot\n",
    "    points = current_points.pop(0)\n",
    "    points.remove()\n"
   ]
  },
  {
   "cell_type": "markdown",
   "metadata": {
    "slideshow": {
     "slide_type": "slide"
    }
   },
   "source": [
    "### Building the GIF"
   ]
  },
  {
   "cell_type": "code",
   "execution_count": 34,
   "metadata": {
    "run_control": {
     "marked": false
    }
   },
   "outputs": [],
   "source": [
    "import imageio  # This is used to read the dumped images and create the animation\n",
    "import shutil  # package to manage files\n",
    "\n",
    "GIF_name = 'animated_parabola.gif'\n",
    "cleanup = True # delete the temporary folder\n",
    "\n",
    "images = []\n",
    "for filename in os.listdir(temp_folder):\n",
    "    images.append(imageio.imread(f'{temp_folder}/{filename}'))\n",
    "    \n",
    "imageio.mimsave(GIF_name, images, duration=0.2)"
   ]
  },
  {
   "cell_type": "code",
   "execution_count": 35,
   "metadata": {
    "run_control": {
     "marked": false
    }
   },
   "outputs": [],
   "source": [
    "if cleanup:\n",
    "    shutil.rmtree(temp_folder)"
   ]
  },
  {
   "cell_type": "markdown",
   "metadata": {},
   "source": [
    "# Contents\n",
    "\n",
    "## <font color='grey'> - Numpy </font>\n",
    "\n",
    "## <font color='grey'> - Matplotlib </font>\n",
    "\n",
    "## <font color='black'> - Scipy </font>\n",
    "\n",
    "\n",
    "## Exercises \n",
    "\n",
    "- Read and plot data\n",
    "- Random numbers and histograms"
   ]
  },
  {
   "cell_type": "markdown",
   "metadata": {
    "slideshow": {
     "slide_type": "slide"
    }
   },
   "source": [
    "## Scipy\n",
    "- Typical function and constants (scipy.pi, scipy.sin, etc)\n",
    "- Integrators (ODE45 --> scipy.integrate.RK45, scipy.integrate.odeint)\n",
    "- Curve fitting (scipy.optimize.curve_fit\n",
    "- Interpolation (scipy.interpolate)\n",
    "- Statistics (scipy.stats)"
   ]
  },
  {
   "cell_type": "markdown",
   "metadata": {
    "slideshow": {
     "slide_type": "slide"
    }
   },
   "source": [
    "### Example: Solving an ODE with Scipy\n",
    "\n",
    "y'(x) = y*ln(y)/x\n",
    "\n",
    "y(2) = e"
   ]
  },
  {
   "cell_type": "code",
   "execution_count": 37,
   "metadata": {
    "slideshow": {
     "slide_type": "-"
    }
   },
   "outputs": [],
   "source": [
    "from scipy.integrate import odeint\n",
    "import numpy as np\n",
    "\n",
    "X0 = [2.0, np.e] # initial value\n",
    "\n",
    "t = np.linspace(2, 10, 10) # solution points\n",
    "# Function to integrate\n",
    "df = lambda y, X: y*np.log(y)/X\n",
    "# Scipy has a very powerful ODE integrator: - BUILD-IN FUNCTION\n",
    "y_P = odeint(df, np.e, t)\n"
   ]
  },
  {
   "cell_type": "code",
   "execution_count": 38,
   "metadata": {
    "slideshow": {
     "slide_type": "fragment"
    }
   },
   "outputs": [
    {
     "data": {
      "image/png": "[encoded data removed]",
      "text/plain": [
       "<Figure size 432x288 with 1 Axes>"
      ]
     },
     "metadata": {
      "needs_background": "light"
     },
     "output_type": "display_data"
    }
   ],
   "source": [
    "import matplotlib.pyplot as plt\n",
    "plt.figure\n",
    "plt.plot(t, np.e**(t/2), color='r', label='True')\n",
    "plt.plot(t, y_P, color='g', linestyle= '--', label= 'scipy.ODEINT', marker='o' )\n",
    "plt.legend()\n",
    "plt.xlabel('x')\n",
    "plt.ylabel('y')\n",
    "plt.show()"
   ]
  },
  {
   "cell_type": "markdown",
   "metadata": {
    "slideshow": {
     "slide_type": "slide"
    }
   },
   "source": [
    "## Read data from a file"
   ]
  },
  {
   "cell_type": "code",
   "execution_count": 36,
   "metadata": {
    "run_control": {
     "marked": false
    }
   },
   "outputs": [],
   "source": [
    "import numpy as np\n",
    "\n",
    "file_to_read = 'alumina_data_raw.txt'\n",
    "data = np.genfromtxt(file_to_read, skip_header=1, delimiter=';')"
   ]
  },
  {
   "cell_type": "markdown",
   "metadata": {
    "slideshow": {
     "slide_type": "slide"
    }
   },
   "source": [
    "## Exercise: plot data\n",
    "- From the previous dataset read column 0 (temperature) and column 3 (mass)\n",
    "- Add appropriate labels"
   ]
  },
  {
   "cell_type": "markdown",
   "metadata": {
    "run_control": {
     "marked": true
    }
   },
   "source": [
    "### Solution "
   ]
  },
  {
   "cell_type": "code",
   "execution_count": 39,
   "metadata": {
    "code_folding": [],
    "run_control": {
     "marked": false
    },
    "slideshow": {
     "slide_type": "fragment"
    }
   },
   "outputs": [
    {
     "data": {
      "text/plain": [
       "Text(0, 0.5, 'Mass, %')"
      ]
     },
     "execution_count": 39,
     "metadata": {},
     "output_type": "execute_result"
    },
    {
     "data": {
      "image/png": "[encoded data removed]",
      "text/plain": [
       "<Figure size 432x288 with 1 Axes>"
      ]
     },
     "metadata": {
      "needs_background": "light"
     },
     "output_type": "display_data"
    }
   ],
   "source": [
    "import matplotlib.pyplot as plt\n",
    "\n",
    "temperature = data[:,0]\n",
    "mass = data[:,3]\n",
    "\n",
    "fig, ax = plt.subplots()\n",
    "\n",
    "ax.plot(temperature, mass)\n",
    "ax.set_xlabel('Tempeture, °C')\n",
    "ax.set_ylabel('Mass, %')"
   ]
  },
  {
   "cell_type": "markdown",
   "metadata": {
    "slideshow": {
     "slide_type": "slide"
    }
   },
   "source": [
    "## Exercise: gaussian histogram (part 1)\n",
    "- Generate random data normally distributed\n",
    "- Plot it in a histogram\n",
    "- Include the theoretical normal distribution\n",
    "- Add a legend\n",
    "- Save the figure"
   ]
  },
  {
   "cell_type": "code",
   "execution_count": 40,
   "metadata": {
    "slideshow": {
     "slide_type": "fragment"
    }
   },
   "outputs": [
    {
     "data": {
      "image/png": "[encoded data removed]",
      "text/plain": [
       "<Figure size 432x288 with 1 Axes>"
      ]
     },
     "metadata": {
      "needs_background": "light"
     },
     "output_type": "display_data"
    }
   ],
   "source": [
    "# %matplotlib widget\n",
    "import numpy as np\n",
    "import matplotlib.pyplot as plt\n",
    "\n",
    "\n",
    "mu = 2.5\n",
    "sigma = 2\n",
    "\n",
    "random_data = np.random.normal(mu,sigma,10000);\n",
    "\n",
    "fig_hist, ax_hist = plt.subplots()\n",
    "ax_hist.hist(random_data, density=True, bins=60, label='Data');"
   ]
  },
  {
   "cell_type": "code",
   "execution_count": 41,
   "metadata": {
    "slideshow": {
     "slide_type": "fragment"
    }
   },
   "outputs": [
    {
     "data": {
      "text/plain": [
       "[<matplotlib.lines.Line2D at 0x7f8fd321b3d0>]"
      ]
     },
     "execution_count": 41,
     "metadata": {},
     "output_type": "execute_result"
    }
   ],
   "source": [
    "xmin = mu - 3*sigma\n",
    "xmax = mu + 3*sigma\n",
    "\n",
    "x = np.linspace(xmin, xmax, num=300)\n",
    "y = 1/(sigma * (2*np.pi)**0.5)*np.e**(-0.5*((x-mu)/sigma)**2)\n",
    "ax_hist.plot(x, y, label='Normal distr.')"
   ]
  },
  {
   "cell_type": "code",
   "execution_count": 42,
   "metadata": {
    "slideshow": {
     "slide_type": "fragment"
    },
    "solution": "hidden"
   },
   "outputs": [],
   "source": [
    "ax_hist.legend()\n",
    "fig_hist.savefig('Normal distribution.png')"
   ]
  },
  {
   "cell_type": "markdown",
   "metadata": {
    "slideshow": {
     "slide_type": "slide"
    }
   },
   "source": [
    "## Exercise: gaussian histogram (part 2)\n",
    "- Generate random data normally distributed with different number of sample points\n",
    "- Compare the mean and the std of your dataset to the provided values\n",
    "- Plot it in a histogram\n",
    "- Plot the normal distribution with your parameters\n",
    "- Include the theoretical normal distribution\n",
    "- Plot the convergence curves for mean and std\n",
    "- Add a legend(s)"
   ]
  },
  {
   "cell_type": "code",
   "execution_count": 43,
   "metadata": {
    "slideshow": {
     "slide_type": "fragment"
    }
   },
   "outputs": [
    {
     "data": {
      "text/plain": [
       "(0.0, 0.06268777430836729)"
      ]
     },
     "execution_count": 43,
     "metadata": {},
     "output_type": "execute_result"
    },
    {
     "data": {
      "image/png": "[encoded data removed]",
      "text/plain": [
       "<Figure size 432x288 with 1 Axes>"
      ]
     },
     "metadata": {
      "needs_background": "light"
     },
     "output_type": "display_data"
    }
   ],
   "source": [
    "# %matplotlib widget\n",
    "\n",
    "import numpy as np\n",
    "import matplotlib.pyplot as plt\n",
    "import os\n",
    "\n",
    "def compute_normal(x, mu, sigma):\n",
    "    return 1/(sigma * (2*np.pi)**0.5)*np.e**(-0.5*((x-mu)/sigma)**2)\n",
    "\n",
    "# Set temp folder to save figures \n",
    "temp_folder = 'temp_histogram'\n",
    "if not os.path.exists(temp_folder):\n",
    "    os.mkdir(temp_folder)\n",
    "\n",
    "## theoretical part\n",
    "mu = 4.5\n",
    "sigma = 7\n",
    "\n",
    "xmin = mu - 3*sigma\n",
    "xmax = mu + 3*sigma\n",
    "\n",
    "x = np.linspace(xmin, xmax, num=300)\n",
    "y_theoretical = compute_normal(x, mu, sigma)\n",
    "\n",
    "fig_hist, ax_hist = plt.subplots()\n",
    "ax_hist.plot(x, y_theoretical, label='Normal distr. Theoretical', color='C0')\n",
    "\n",
    "# set the limits \n",
    "ax_hist.set_ylim(0,max(y_theoretical)*1.1)"
   ]
  },
  {
   "cell_type": "code",
   "execution_count": 44,
   "metadata": {},
   "outputs": [],
   "source": [
    "## \n",
    "\n",
    "N_samples = np.geomspace(5, 20000, 100, dtype=int)\n",
    "\n",
    "means = []\n",
    "stds = []\n",
    "for n in N_samples:\n",
    "    random_data = np.random.normal(mu,sigma,n)\n",
    "\n",
    "    mean = np.mean(random_data)\n",
    "    std = np.std(random_data)\n",
    "\n",
    "    means.append(mean)\n",
    "    stds.append(std)\n",
    "    \n",
    "    \n",
    "    count, bins, bars = ax_hist.hist(random_data, color='C1', density=True, bins=60, label='Data', alpha=0.7)\n",
    "\n",
    "    y_computed = compute_normal(x, mean, std)\n",
    "    current_curve = ax_hist.plot(x, y_computed, color='C2', label='Normal distr. Computed')\n",
    "    \n",
    "    # put the title \n",
    "    ax_hist.set_title(f'Samples: {n}, mean={mean:.2f}, std={std:.2f}')\n",
    "    ax_hist.legend(loc='upper left')    \n",
    "    \n",
    "    \n",
    "    # save the figure\n",
    "    fig_hist.savefig(f'{temp_folder}/Im_{str(n).zfill(2)}.png')\n",
    "    \n",
    "    # remove the current points for a clean plot\n",
    "    t = [b.remove() for b in bars]\n",
    "    \n",
    "    line = current_curve.pop(0)\n",
    "    line.remove()"
   ]
  },
  {
   "cell_type": "code",
   "execution_count": 45,
   "metadata": {
    "slideshow": {
     "slide_type": "fragment"
    }
   },
   "outputs": [],
   "source": [
    "# We can animate the previous plot\n",
    "\n",
    "import imageio  # This is used to read the dumped images and create the animation\n",
    "import shutil  # package to manage files\n",
    "\n",
    "GIF_name = 'histogram.gif'\n",
    "cleanup = True # delete the temporary folder\n",
    "\n",
    "images = []\n",
    "for filename in os.listdir(temp_folder):\n",
    "    images.append(imageio.imread(f'{temp_folder}/{filename}'))\n",
    "    \n",
    "imageio.mimsave(GIF_name, images, duration=0.2)"
   ]
  },
  {
   "cell_type": "markdown",
   "metadata": {
    "slideshow": {
     "slide_type": "slide"
    }
   },
   "source": [
    "### Convergence of mean and std"
   ]
  },
  {
   "cell_type": "code",
   "execution_count": 46,
   "metadata": {},
   "outputs": [
    {
     "data": {
      "image/png": "[encoded data removed]",
      "text/plain": [
       "<Figure size 432x288 with 1 Axes>"
      ]
     },
     "metadata": {
      "needs_background": "light"
     },
     "output_type": "display_data"
    }
   ],
   "source": [
    "fig, ax = plt.subplots()\n",
    "\n",
    "ax.plot(N_samples, means, label='mean')\n",
    "ax.plot(N_samples, stds, label='std')\n",
    "\n",
    "ax.set_xlabel('Num. Samples')\n",
    "\n",
    "ax.legend()\n",
    "ax.set_xscale('log')\n",
    "\n",
    "fig.savefig('convergence.pdf')"
   ]
  }
 ],
 "metadata": {
  "celltoolbar": "Slideshow",
  "kernelspec": {
   "display_name": "work",
   "language": "python",
   "name": "work"
  },
  "language_info": {
   "codemirror_mode": {
    "name": "ipython",
    "version": 3
   },
   "file_extension": ".py",
   "mimetype": "text/x-python",
   "name": "python",
   "nbconvert_exporter": "python",
   "pygments_lexer": "ipython3",
   "version": "3.8.12"
  },
  "rise": {
   "footer": "<h3>Hands on Machine Learning for Fluid Dynamics</h3>",
   "header": "<h3>                       </h3>"
  },
  "varInspector": {
   "cols": {
    "lenName": 16,
    "lenType": 16,
    "lenVar": 40
   },
   "kernels_config": {
    "python": {
     "delete_cmd_postfix": "",
     "delete_cmd_prefix": "del ",
     "library": "var_list.py",
     "varRefreshCmd": "print(var_dic_list())"
    },
    "r": {
     "delete_cmd_postfix": ") ",
     "delete_cmd_prefix": "rm(",
     "library": "var_list.r",
     "varRefreshCmd": "cat(var_dic_list()) "
    }
   },
   "types_to_exclude": [
    "module",
    "function",
    "builtin_function_or_method",
    "instance",
    "_Feature"
   ],
   "window_display": false
  }
 },
 "nbformat": 4,
 "nbformat_minor": 4
}